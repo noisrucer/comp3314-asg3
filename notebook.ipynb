{
 "cells": [
  {
   "cell_type": "code",
   "execution_count": 2,
   "metadata": {},
   "outputs": [],
   "source": [
    "import cv2\n",
    "import numpy as np\n",
    "import os\n",
    "import pandas as pd\n",
    "\n",
    "from sklearn.model_selection import train_test_split\n",
    "from skimage import exposure\n",
    "\n",
    "train_images_files     = 'train_ims'\n",
    "train_label_file = 'train.csv'\n",
    "# test_images_files      = 'test_ims'\n",
    "# test_label_file      = 'test.csv'\n",
    "\n",
    "def load_data(dataset_path, csv_path):\n",
    "    '''\n",
    "    Load the image data and labels.\n",
    "    '''\n",
    "    \n",
    "    df = pd.read_csv(csv_path)\n",
    "    images = []\n",
    "    labels = []\n",
    "    \n",
    "    for index, row in df.iterrows():\n",
    "        image_name = row['im_name']\n",
    "        label      = row['label']\n",
    "        \n",
    "        image_path  = os.path.join(dataset_path, image_name)\n",
    "        image       = cv2.imread(image_path)\n",
    "        images.append(image)\n",
    "        labels.append(label)\n",
    "        \n",
    "    return np.array(images), np.array(labels)\n",
    "\n",
    "\n",
    "\n",
    "xs, ys = load_data(train_images_files, train_label_file)\n",
    "x_train, x_test, y_train, y_test = train_test_split(\n",
    "    xs, \n",
    "    ys, \n",
    "    test_size=0.2, \n",
    "    random_state=42,\n",
    "    stratify=ys \n",
    ")"
   ]
  },
  {
   "cell_type": "code",
   "execution_count": 3,
   "metadata": {},
   "outputs": [
    {
     "name": "stdout",
     "output_type": "stream",
     "text": [
      "(40000, 32, 32, 3) (40000,) (10000, 32, 32, 3) (10000,)\n"
     ]
    }
   ],
   "source": [
    "print(x_train.shape, y_train.shape, x_test.shape, y_test.shape)"
   ]
  },
  {
   "cell_type": "code",
   "execution_count": 4,
   "metadata": {},
   "outputs": [
    {
     "name": "stdout",
     "output_type": "stream",
     "text": [
      "(40000, 3072)\n"
     ]
    }
   ],
   "source": [
    "import numpy as np\n",
    "\n",
    "def flatten_images(images):\n",
    "    \"\"\"\n",
    "    Every pixel has 3 rgb values.\n",
    "    Treat every rgb value as a single attribute. Therefore, for every image, there will be 32 x 32 x 3 attributes\n",
    "    \"\"\"\n",
    "    flattened_images = images.reshape(len(images), -1)\n",
    "    return flattened_images\n",
    "\n",
    "x_train = flatten_images(x_train)\n",
    "x_test = flatten_images(x_test)\n",
    "\n",
    "print(x_train.shape)"
   ]
  },
  {
   "cell_type": "code",
   "execution_count": 5,
   "metadata": {},
   "outputs": [
    {
     "name": "stdout",
     "output_type": "stream",
     "text": [
      "(40000, 100)\n"
     ]
    }
   ],
   "source": [
    "from sklearn.decomposition import PCA\n",
    "\n",
    "def pca(xs, n_components):\n",
    "    pca = PCA(n_components=n_components)\n",
    "    xs_reduced = pca.fit_transform(xs)\n",
    "    \n",
    "    return xs_reduced\n",
    "\n",
    "pca_dimensions = [400, 200, 100, 50]\n",
    "\n",
    "# Apply PCA for each dimension and visualize the results\n",
    "# for dim in pca_dimensions:\n",
    "#     xs_reconstructed = pca_and_reproject(x_train, n_components=dim)\n",
    "x_train = pca(x_train, 100)\n",
    "x_test = pca(x_test, 100)\n",
    "print(x_train.shape)\n"
   ]
  },
  {
   "cell_type": "code",
   "execution_count": null,
   "metadata": {},
   "outputs": [
    {
     "name": "stdout",
     "output_type": "stream",
     "text": [
      "(10000, 100) (10000,)\n"
     ]
    },
    {
     "ename": "NameError",
     "evalue": "name 'device_lib' is not defined",
     "output_type": "error",
     "traceback": [
      "\u001b[1;31m---------------------------------------------------------------------------\u001b[0m",
      "\u001b[1;31mNameError\u001b[0m                                 Traceback (most recent call last)",
      "Cell \u001b[1;32mIn[8], line 11\u001b[0m\n\u001b[0;32m      9\u001b[0m x_train, y_train \u001b[38;5;241m=\u001b[39m x_train[:\u001b[38;5;241m10000\u001b[39m], y_train[:\u001b[38;5;241m10000\u001b[39m]\n\u001b[0;32m     10\u001b[0m \u001b[38;5;28mprint\u001b[39m(x_train\u001b[38;5;241m.\u001b[39mshape, y_train\u001b[38;5;241m.\u001b[39mshape)\n\u001b[1;32m---> 11\u001b[0m \u001b[38;5;28mprint\u001b[39m(device_lib\u001b[38;5;241m.\u001b[39mlist_local_devices())\n",
      "\u001b[1;31mNameError\u001b[0m: name 'device_lib' is not defined"
     ]
    }
   ],
   "source": [
    "from sklearn.preprocessing import StandardScaler\n",
    "\n",
    "def scale(xs):\n",
    "    stdsc = StandardScaler()\n",
    "    return stdsc.fit_transform(xs)\n",
    "\n",
    "# Scale to speed up convergence\n",
    "x_train = scale(x_train)\n",
    "x_train, y_train = x_train[:10000], y_train[:10000]\n",
    "print(x_train.shape, y_train.shape)"
   ]
  },
  {
   "cell_type": "code",
   "execution_count": 7,
   "metadata": {},
   "outputs": [
    {
     "name": "stdout",
     "output_type": "stream",
     "text": [
      "Accuracy: 0.201\n",
      "\n",
      "Classification Report:\n",
      "               precision    recall  f1-score   support\n",
      "\n",
      "           0       0.19      0.32      0.24      1002\n",
      "           1       0.23      0.07      0.11      1002\n",
      "           2       0.15      0.04      0.06      1008\n",
      "           3       0.16      0.03      0.05      1001\n",
      "           4       0.18      0.12      0.15       999\n",
      "           5       0.19      0.13      0.15       999\n",
      "           6       0.16      0.46      0.24       991\n",
      "           7       0.17      0.03      0.05      1000\n",
      "           8       0.25      0.42      0.32      1004\n",
      "           9       0.26      0.40      0.32       994\n",
      "\n",
      "    accuracy                           0.20     10000\n",
      "   macro avg       0.19      0.20      0.17     10000\n",
      "weighted avg       0.19      0.20      0.17     10000\n",
      "\n"
     ]
    }
   ],
   "source": [
    "# SVM\n",
    "from sklearn.svm import SVC\n",
    "from sklearn.metrics import classification_report, accuracy_score\n",
    "\n",
    "svm_model = SVC(kernel='linear', C=1, random_state=1)\n",
    "svm_model.fit(x_train, y_train)\n",
    "\n",
    "y_pred = svm_model.predict(x_test)\n",
    "\n",
    "# Step 6: Evaluate the Model\n",
    "accuracy = accuracy_score(y_test, y_pred)\n",
    "print(\"Accuracy:\", accuracy)\n",
    "print(\"\\nClassification Report:\\n\", classification_report(y_test, y_pred))"
   ]
  }
 ],
 "metadata": {
  "kernelspec": {
   "display_name": "base",
   "language": "python",
   "name": "python3"
  },
  "language_info": {
   "codemirror_mode": {
    "name": "ipython",
    "version": 3
   },
   "file_extension": ".py",
   "mimetype": "text/x-python",
   "name": "python",
   "nbconvert_exporter": "python",
   "pygments_lexer": "ipython3",
   "version": "3.11.7"
  },
  "orig_nbformat": 4
 },
 "nbformat": 4,
 "nbformat_minor": 2
}

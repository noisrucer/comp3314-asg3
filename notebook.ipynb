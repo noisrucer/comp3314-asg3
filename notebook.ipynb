{
 "cells": [
  {
   "cell_type": "code",
   "execution_count": 13,
   "metadata": {},
   "outputs": [],
   "source": [
    "import cv2\n",
    "import numpy as np\n",
    "import os\n",
    "import pandas as pd\n",
    "\n",
    "from sklearn.model_selection import train_test_split\n",
    "from skimage import exposure\n",
    "\n",
    "train_images     = 'train_ims'\n",
    "train_label_file = 'train.csv'\n",
    "\n",
    "def load_train_data(dataset_path, csv_path):\n",
    "    '''\n",
    "    Load the image data and labels.\n",
    "    '''\n",
    "    \n",
    "    df = pd.read_csv(csv_path)\n",
    "    images = []\n",
    "    labels = []\n",
    "    \n",
    "    for index, row in df.iterrows():\n",
    "        image_name = row['im_name']\n",
    "        label      = row['label']\n",
    "        \n",
    "        image_path  = os.path.join(dataset_path, image_name)\n",
    "        image       = cv2.imread(image_path)\n",
    "        images.append(image)\n",
    "        labels.append(label)\n",
    "        \n",
    "    return images, labels\n",
    "\n",
    "images, labels = load_train_data(train_images, train_label_file)"
   ]
  },
  {
   "cell_type": "code",
   "execution_count": 14,
   "metadata": {},
   "outputs": [
    {
     "name": "stdout",
     "output_type": "stream",
     "text": [
      "[[[246 242 237]\n",
      "  [249 246 238]\n",
      "  [241 239 228]\n",
      "  ...\n",
      "  [ 25  62  28]\n",
      "  [ 35  66  33]\n",
      "  [ 37  67  32]]\n",
      "\n",
      " [[251 245 238]\n",
      "  [242 238 227]\n",
      "  [237 234 220]\n",
      "  ...\n",
      "  [ 29  66  32]\n",
      "  [ 27  60  26]\n",
      "  [ 28  60  25]]\n",
      "\n",
      " [[228 222 209]\n",
      "  [220 216 198]\n",
      "  [214 210 191]\n",
      "  ...\n",
      "  [ 29  71  36]\n",
      "  [ 35  72  38]\n",
      "  [ 28  63  29]]\n",
      "\n",
      " ...\n",
      "\n",
      " [[219 205 177]\n",
      "  [210 196 167]\n",
      "  [199 189 155]\n",
      "  ...\n",
      "  [161 156 117]\n",
      "  [166 172 131]\n",
      "  [117 127  84]]\n",
      "\n",
      " [[210 197 171]\n",
      "  [203 191 163]\n",
      "  [186 177 143]\n",
      "  ...\n",
      "  [148 145 107]\n",
      "  [128 136  95]\n",
      "  [118 132  90]]\n",
      "\n",
      " [[229 218 191]\n",
      "  [219 208 180]\n",
      "  [193 184 150]\n",
      "  ...\n",
      "  [153 150 112]\n",
      "  [135 144 104]\n",
      "  [122 139  96]]] 6\n"
     ]
    }
   ],
   "source": [
    "print(images[0], labels[0])"
   ]
  }
 ],
 "metadata": {
  "kernelspec": {
   "display_name": "Python 3.9.6 64-bit",
   "language": "python",
   "name": "python3"
  },
  "language_info": {
   "codemirror_mode": {
    "name": "ipython",
    "version": 3
   },
   "file_extension": ".py",
   "mimetype": "text/x-python",
   "name": "python",
   "nbconvert_exporter": "python",
   "pygments_lexer": "ipython3",
   "version": "3.9.6"
  },
  "orig_nbformat": 4,
  "vscode": {
   "interpreter": {
    "hash": "31f2aee4e71d21fbe5cf8b01ff0e069b9275f58929596ceb00d14d90e3e16cd6"
   }
  }
 },
 "nbformat": 4,
 "nbformat_minor": 2
}
